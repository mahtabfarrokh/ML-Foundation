{
 "cells": [
  {
   "cell_type": "markdown",
   "metadata": {},
   "source": [
    "# Logistic Regression\n",
    "\n",
    "**What does it do?**\n",
    "It fits a line or polynomial with sigmoid activation minimizing the sum of mean squared error (MSE) between the predicted and actual class labels. The labels are binary class labels. \n",
    "\n",
    "\n",
    "Here are all the formulas: \n",
    "![Alt text](../images/logistic_regression_formula.png)\n",
    "\n"
   ]
  },
  {
   "cell_type": "markdown",
   "metadata": {},
   "source": [
    "## Implementation without sklearn\n",
    "\n"
   ]
  },
  {
   "cell_type": "code",
   "execution_count": 3,
   "metadata": {},
   "outputs": [],
   "source": [
    "## Loading dependencies\n",
    "import pandas as pd\n",
    "import numpy as np\n",
    "import matplotlib.pyplot as plt\n",
    "from sklearn.datasets import load_breast_cancer"
   ]
  },
  {
   "cell_type": "code",
   "execution_count": 57,
   "metadata": {},
   "outputs": [
    {
     "name": "stdout",
     "output_type": "stream",
     "text": [
      "(569, 30) (569,)\n"
     ]
    }
   ],
   "source": [
    "data = load_breast_cancer()\n",
    "X = pd.DataFrame(data.data, columns=data.feature_names)\n",
    "X = (X - X.mean())/X.std()\n",
    "y = pd.Series(data.target)\n",
    "print(X.shape, y.shape)"
   ]
  },
  {
   "cell_type": "code",
   "execution_count": 58,
   "metadata": {},
   "outputs": [],
   "source": [
    "# from sklearn.model_selection import train_test_split\n",
    "# X_train, X_test, y_train, y_test = train_test_split(X, y, test_size=0.2, random_state=42)\n",
    "\n",
    "X = X.sample(frac=1, random_state=42)\n",
    "y = y[X.index].reset_index(drop=True)\n",
    "X = X.reset_index(drop=True)\n",
    "train_size = int(0.8 * len(X))  \n",
    "X_train, X_test, y_train, y_test = X[:train_size], X[train_size:], y[:train_size], y[train_size:]"
   ]
  },
  {
   "cell_type": "code",
   "execution_count": 46,
   "metadata": {},
   "outputs": [],
   "source": [
    "def sigmoid_f(z): \n",
    "    # If you don't break it down like this, you will get lot's of overflow warnings!\n",
    "    if z >= 0: \n",
    "        return 1 / (1 + (np.e ** (-z)))\n",
    "    else: \n",
    "        return (np.e ** z) / (1 + (np.e ** z))\n",
    "\n",
    "def stable_sigmoid(x):\n",
    "    return np.array([sigmoid_f(value) for value in x])\n",
    "    \n",
    "def cost_function(y, y_pred):\n",
    "    m = len(y)\n",
    "    return - (y.T.dot(np.log(y_pred+ 1e-9)) + (1-y).T.dot(np.log(1 - y_pred + 1e-9))) / m"
   ]
  },
  {
   "cell_type": "code",
   "execution_count": 60,
   "metadata": {},
   "outputs": [],
   "source": [
    "def gradient_descent(X, y, alpha=0.01, iterations=1000):\n",
    "    \"\"\"Gradient descent for linear regression\"\"\"\n",
    "    m = len(y)\n",
    "    X = np.concatenate((np.ones([X.shape[0], 1]), X), axis = 1)  # Shape: (m, n+1)\n",
    "    theta = np.zeros(X.shape[1])\n",
    "    cost_history = []\n",
    "    for i in range(iterations):\n",
    "        y_pred = stable_sigmoid(X.dot(theta)) \n",
    "        cost = cost_function(y, y_pred)\n",
    "        cost_history.append(cost)\n",
    "        theta -= (alpha / m) * (X.T.dot(y_pred - y))\n",
    "    y_pred = stable_sigmoid(X.dot(theta)) \n",
    "    cost = cost_function(y, y_pred)\n",
    "    print(f\"Iteration {i}: Cost = {cost:.4f}\")\n",
    "    return theta, cost_history"
   ]
  },
  {
   "cell_type": "code",
   "execution_count": 61,
   "metadata": {},
   "outputs": [
    {
     "name": "stdout",
     "output_type": "stream",
     "text": [
      "Iteration 999: Cost = 0.0960\n"
     ]
    },
    {
     "data": {
      "image/png": "[encoded data removed]",
      "text/plain": [
       "<Figure size 640x480 with 1 Axes>"
      ]
     },
     "metadata": {},
     "output_type": "display_data"
    }
   ],
   "source": [
    "# Run the gradient descent on the dataset\n",
    "theta, cost_history = gradient_descent(X_train, y_train)\n",
    "plt.plot(cost_history)\n",
    "plt.xlabel(\"Iteration\")\n",
    "plt.ylabel(\"Cost\")\n",
    "plt.title(\"Cost over iterations\")\n",
    "plt.show()\n"
   ]
  },
  {
   "cell_type": "code",
   "execution_count": 62,
   "metadata": {},
   "outputs": [
    {
     "name": "stdout",
     "output_type": "stream",
     "text": [
      "Test Accuracy: 0.9649122807017544\n"
     ]
    }
   ],
   "source": [
    "from sklearn.metrics import accuracy_score\n",
    "\n",
    "# Reconstruct X with bias term\n",
    "X_test_with_bias = np.c_[np.ones(X_test.shape[0]), X_test]\n",
    "y_pred_probs = stable_sigmoid(X_test_with_bias.dot(theta))\n",
    "y_pred_labels = (y_pred_probs >= 0.5).astype(int)\n",
    "\n",
    "print(\"Test Accuracy:\", accuracy_score(y_test, y_pred_labels))\n"
   ]
  },
  {
   "cell_type": "markdown",
   "metadata": {},
   "source": [
    "## Lessons learned from the implementation \n",
    "\n",
    "- ALWAYS make sure to not forget to normalize the features! It really matters!\n",
    "- The cost function is supposed to decrease monotonically, but because I forgot about data normalization, it had sharp spikes!\n",
    "- When I used the stable sigmoid implementation, it didn't give me overflow warnings anymore."
   ]
  },
  {
   "cell_type": "code",
   "execution_count": null,
   "metadata": {},
   "outputs": [],
   "source": []
  }
 ],
 "metadata": {
  "kernelspec": {
   "display_name": "Python 3 (ipykernel)",
   "language": "python",
   "name": "python3"
  },
  "language_info": {
   "codemirror_mode": {
    "name": "ipython",
    "version": 3
   },
   "file_extension": ".py",
   "mimetype": "text/x-python",
   "name": "python",
   "nbconvert_exporter": "python",
   "pygments_lexer": "ipython3",
   "version": "3.13.2"
  }
 },
 "nbformat": 4,
 "nbformat_minor": 4
}
